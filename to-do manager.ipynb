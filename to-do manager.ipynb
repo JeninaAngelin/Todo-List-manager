{
  "nbformat": 4,
  "nbformat_minor": 0,
  "metadata": {
    "colab": {
      "provenance": []
    },
    "kernelspec": {
      "name": "python3",
      "display_name": "Python 3"
    },
    "language_info": {
      "name": "python"
    }
  },
  "cells": [
    {
      "cell_type": "markdown",
      "source": [
        "# 📝 To-Do List Manager\n",
        "\n",
        "This project helps users manage their daily tasks efficiently. It includes:\n",
        "\n",
        "✅ Adding new tasks  \n",
        "✅ Viewing pending/completed tasks  \n",
        "✅ Marking tasks as complete  \n",
        "✅ Saving tasks in a file  \n",
        "\n",
        "## 🔥 Applied Python Concepts  \n",
        "This project demonstrates the use of:\n",
        "\n",
        "- ✅ Variables and Data Types  \n",
        "- ✅ Control Flow (if-else, loops)  \n",
        "- ✅ Functions and Modules  \n",
        "- ✅ Collections (Lists, Dictionaries)  \n",
        "- ✅ File Handling  \n",
        "- ✅ Error Handling  \n"
      ],
      "metadata": {
        "id": "etV9VXBqUvMf"
      }
    },
    {
      "cell_type": "code",
      "execution_count": 2,
      "metadata": {
        "id": "VEO02_QSTtXX"
      },
      "outputs": [],
      "source": [
        "import os\n",
        "\n",
        "# File to store tasks\n",
        "TASK_FILE = \"tasks.txt\""
      ]
    },
    {
      "cell_type": "code",
      "source": [
        "def load_tasks():\n",
        "    \"\"\"Load tasks from file.\"\"\"\n",
        "    tasks = []\n",
        "    if os.path.exists(TASK_FILE):\n",
        "        with open(TASK_FILE, \"r\") as file:\n",
        "            for line in file:\n",
        "                task, status = line.strip().split(\"|\")\n",
        "                tasks.append({\"task\": task, \"completed\": status == \"True\"})\n",
        "    return tasks"
      ],
      "metadata": {
        "id": "_w-1SGM6TuSx"
      },
      "execution_count": 3,
      "outputs": []
    },
    {
      "cell_type": "code",
      "source": [
        "def save_tasks(tasks):\n",
        "    \"\"\"Save tasks to file.\"\"\"\n",
        "    with open(TASK_FILE, \"w\") as file:\n",
        "        for task in tasks:\n",
        "            file.write(f\"{task['task']}|{task['completed']}\\n\")"
      ],
      "metadata": {
        "id": "dModA0VeVCo-"
      },
      "execution_count": 4,
      "outputs": []
    },
    {
      "cell_type": "code",
      "source": [
        "def add_task(tasks):\n",
        "    \"\"\"Add a new task.\"\"\"\n",
        "    task = input(\"Enter a new task: \")\n",
        "    tasks.append({\"task\": task, \"completed\": False})\n",
        "    save_tasks(tasks)\n",
        "    print(\"Task added successfully!\")"
      ],
      "metadata": {
        "id": "tG967MIEVFUo"
      },
      "execution_count": 5,
      "outputs": []
    },
    {
      "cell_type": "code",
      "source": [
        "def view_tasks(tasks):\n",
        "    \"\"\"View all tasks.\"\"\"\n",
        "    if not tasks:\n",
        "        print(\"No tasks available.\")\n",
        "        return\n",
        "    for i, task in enumerate(tasks, start=1):\n",
        "        status = \"✅\" if task['completed'] else \"❌\"\n",
        "        print(f\"{i}. {task['task']} {status}\")"
      ],
      "metadata": {
        "id": "i7MQhZaJVIGz"
      },
      "execution_count": 6,
      "outputs": []
    },
    {
      "cell_type": "code",
      "source": [
        "def mark_complete(tasks):\n",
        "    \"\"\"Mark a task as completed.\"\"\"\n",
        "    view_tasks(tasks)\n",
        "    try:\n",
        "        task_num = int(input(\"Enter task number to mark as complete: \")) - 1\n",
        "        if 0 <= task_num < len(tasks):\n",
        "            tasks[task_num]['completed'] = True\n",
        "            save_tasks(tasks)\n",
        "            print(\"Task marked as completed!\")\n",
        "        else:\n",
        "            print(\"Invalid task number.\")\n",
        "    except ValueError:\n",
        "        print(\"Please enter a valid number.\")"
      ],
      "metadata": {
        "id": "5KBpk_yeVLTb"
      },
      "execution_count": 7,
      "outputs": []
    },
    {
      "cell_type": "code",
      "source": [
        "def main():\n",
        "    \"\"\"Main function to run the to-do list manager.\"\"\"\n",
        "    tasks = load_tasks()\n",
        "    while True:\n",
        "        print(\"\\nTo-Do List Manager\")\n",
        "        print(\"1. Add Task\")\n",
        "        print(\"2. View Tasks\")\n",
        "        print(\"3. Mark Task Complete\")\n",
        "        print(\"4. Exit\")\n",
        "        choice = input(\"Choose an option: \")\n",
        "        if choice == \"1\":\n",
        "            add_task(tasks)\n",
        "        elif choice == \"2\":\n",
        "            view_tasks(tasks)\n",
        "        elif choice == \"3\":\n",
        "            mark_complete(tasks)\n",
        "        elif choice == \"4\":\n",
        "            print(\"Exiting... Goodbye!\")\n",
        "            break\n",
        "        else:\n",
        "            print(\"Invalid choice. Try again.\")\n",
        "\n",
        "if __name__ == \"__main__\":\n",
        "    main()"
      ],
      "metadata": {
        "colab": {
          "base_uri": "https://localhost:8080/"
        },
        "id": "U9m2Z3LMVN9y",
        "outputId": "806bcaaf-6be1-461d-fe3a-0ed53166c7b8"
      },
      "execution_count": 8,
      "outputs": [
        {
          "output_type": "stream",
          "name": "stdout",
          "text": [
            "\n",
            "To-Do List Manager\n",
            "1. Add Task\n",
            "2. View Tasks\n",
            "3. Mark Task Complete\n",
            "4. Exit\n",
            "Choose an option: 1\n",
            "Enter a new task: attend meeting\n",
            "Task added successfully!\n",
            "\n",
            "To-Do List Manager\n",
            "1. Add Task\n",
            "2. View Tasks\n",
            "3. Mark Task Complete\n",
            "4. Exit\n",
            "Choose an option: 2\n",
            "1. attend meeting ✅\n",
            "2. attend meeting ❌\n",
            "\n",
            "To-Do List Manager\n",
            "1. Add Task\n",
            "2. View Tasks\n",
            "3. Mark Task Complete\n",
            "4. Exit\n",
            "Choose an option: check mail\n",
            "Invalid choice. Try again.\n",
            "\n",
            "To-Do List Manager\n",
            "1. Add Task\n",
            "2. View Tasks\n",
            "3. Mark Task Complete\n",
            "4. Exit\n",
            "Choose an option: 1\n",
            "Enter a new task: check mail\n",
            "Task added successfully!\n",
            "\n",
            "To-Do List Manager\n",
            "1. Add Task\n",
            "2. View Tasks\n",
            "3. Mark Task Complete\n",
            "4. Exit\n",
            "Choose an option: 2\n",
            "1. attend meeting ✅\n",
            "2. attend meeting ❌\n",
            "3. check mail ❌\n",
            "\n",
            "To-Do List Manager\n",
            "1. Add Task\n",
            "2. View Tasks\n",
            "3. Mark Task Complete\n",
            "4. Exit\n",
            "Choose an option: send courseflow\n",
            "Invalid choice. Try again.\n",
            "\n",
            "To-Do List Manager\n",
            "1. Add Task\n",
            "2. View Tasks\n",
            "3. Mark Task Complete\n",
            "4. Exit\n",
            "Choose an option: 1\n",
            "Enter a new task: send coursework\n",
            "Task added successfully!\n",
            "\n",
            "To-Do List Manager\n",
            "1. Add Task\n",
            "2. View Tasks\n",
            "3. Mark Task Complete\n",
            "4. Exit\n",
            "Choose an option: 2\n",
            "1. attend meeting ✅\n",
            "2. attend meeting ❌\n",
            "3. check mail ❌\n",
            "4. send coursework ❌\n",
            "\n",
            "To-Do List Manager\n",
            "1. Add Task\n",
            "2. View Tasks\n",
            "3. Mark Task Complete\n",
            "4. Exit\n",
            "Choose an option: 3\n",
            "1. attend meeting ✅\n",
            "2. attend meeting ❌\n",
            "3. check mail ❌\n",
            "4. send coursework ❌\n",
            "Enter task number to mark as complete: 3\n",
            "Task marked as completed!\n",
            "\n",
            "To-Do List Manager\n",
            "1. Add Task\n",
            "2. View Tasks\n",
            "3. Mark Task Complete\n",
            "4. Exit\n",
            "Choose an option: 2\n",
            "1. attend meeting ✅\n",
            "2. attend meeting ❌\n",
            "3. check mail ✅\n",
            "4. send coursework ❌\n",
            "\n",
            "To-Do List Manager\n",
            "1. Add Task\n",
            "2. View Tasks\n",
            "3. Mark Task Complete\n",
            "4. Exit\n",
            "Choose an option: 4\n",
            "Exiting... Goodbye!\n"
          ]
        }
      ]
    },
    {
      "cell_type": "code",
      "source": [],
      "metadata": {
        "id": "TtfktwGhV-Ox"
      },
      "execution_count": null,
      "outputs": []
    }
  ]
}